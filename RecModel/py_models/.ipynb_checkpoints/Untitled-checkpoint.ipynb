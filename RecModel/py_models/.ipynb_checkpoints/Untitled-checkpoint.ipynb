{
 "cells": [
  {
   "cell_type": "code",
   "execution_count": 1,
   "metadata": {},
   "outputs": [
    {
     "ename": "SyntaxError",
     "evalue": "invalid syntax (models.py, line 9)",
     "output_type": "error",
     "traceback": [
      "Traceback \u001b[0;36m(most recent call last)\u001b[0m:\n",
      "  File \u001b[1;32m\"/home/titoeb/anaconda3/lib/python3.7/site-packages/IPython/core/interactiveshell.py\"\u001b[0m, line \u001b[1;32m3326\u001b[0m, in \u001b[1;35mrun_code\u001b[0m\n    exec(code_obj, self.user_global_ns, self.user_ns)\n",
      "  File \u001b[1;32m\"<ipython-input-1-6917a8330402>\"\u001b[0m, line \u001b[1;32m1\u001b[0m, in \u001b[1;35m<module>\u001b[0m\n    import RecModel\n",
      "\u001b[0;36m  File \u001b[0;32m\"/home/titoeb/Documents/fast_Reco/RecModel/__init__.py\"\u001b[0;36m, line \u001b[0;32m10\u001b[0;36m, in \u001b[0;35m<module>\u001b[0;36m\u001b[0m\n\u001b[0;31m    from .py_models.models import WMF\u001b[0m\n",
      "\u001b[0;36m  File \u001b[0;32m\"/home/titoeb/Documents/fast_Reco/RecModel/py_models/models.py\"\u001b[0;36m, line \u001b[0;32m9\u001b[0m\n\u001b[0;31m    import .faster\u001b[0m\n\u001b[0m           ^\u001b[0m\n\u001b[0;31mSyntaxError\u001b[0m\u001b[0;31m:\u001b[0m invalid syntax\n"
     ]
    }
   ],
   "source": [
    "import RecModel\n",
    "import numpy as np\n",
    "import scipy.sparse\n",
    "import multiprocessing\n",
    "import time\n",
    "\n",
    "train_mat = scipy.sparse.load_npz(\"data/mat_bin_train.npz\")[:, 1:1500][1:1000, :]\n",
    "eval_mat = scipy.sparse.load_npz(\"data/mat_bin_validate.npz\")[:, 1:1500][1:1000, :]\n",
    "count_mat = scipy.sparse.load_npz(\"data/mat_count_train.npz\")[:, 1:1500][1:1000, :]\n",
    "\n",
    "\n",
    "# Fill in from the mlflow run\n",
    "iter = 30\n",
    "verbose = 0\n",
    "cores = multiprocessing.cpu_count()\n",
    "dim = 50\n",
    "gamma = 100\n",
    "stopping_rounds = 2\n",
    "stopping_percentage = 0.01\n",
    "seed = 1993\n",
    "rand_sampled=1000"
   ]
  },
  {
   "cell_type": "code",
   "execution_count": 2,
   "metadata": {},
   "outputs": [
    {
     "name": "stdout",
     "output_type": "stream",
     "text": [
      "[{'topn': 4, 'precision': 0.07549504935741425, 'recall': 0.3019802}, {'topn': 10, 'precision': 0.043069306015968326, 'recall': 0.43069306}, {'topn': 20, 'precision': 0.025, 'recall': 0.5}, {'topn': 50, 'precision': 0.012277227640151978, 'recall': 0.6138614}]\n"
     ]
    }
   ],
   "source": [
    "test_MF = RecModel.WMF(num_items=train_mat.shape[1], num_users=train_mat.shape[0], dim=dim, gamma=gamma, weighted=True, bias=False)\n",
    "iter_run = test_MF.train(train_mat.copy(), iterations=iter, verbose=verbose, eval_mat=eval_mat.copy(), cores=8,\n",
    "                     stopping_rounds=stopping_rounds, count_mat=count_mat.copy())\n",
    "\n",
    "\n",
    "perf_all = test_MF.eval_topn(eval_mat, train_mat, topn=np.array([4, 10, 20, 50]), rand_sampled=rand_sampled,\n",
    "                         metric='RECALL', cores=cores)\n",
    "\n",
    "print(perf_all)"
   ]
  },
  {
   "cell_type": "code",
   "execution_count": 16,
   "metadata": {},
   "outputs": [
    {
     "name": "stdout",
     "output_type": "stream",
     "text": [
      "[{'topn': 4, 'precision': 0.06559406220912933, 'recall': 0.26237625}, {'topn': 10, 'precision': 0.0396039605140686, 'recall': 0.3960396}, {'topn': 20, 'precision': 0.024752475321292877, 'recall': 0.4950495}, {'topn': 50, 'precision': 0.011089109182357788, 'recall': 0.55445546}]\n"
     ]
    }
   ],
   "source": [
    "ease = RecModel.Ease(num_items=train_mat.shape[1], num_users=train_mat.shape[0])\n",
    "ease.train(train_mat.copy(), alpha=1000000000000, verbose=1, cores=8)\n",
    "perf=ease.eval_topn(test_mat=eval_mat.copy(), train_mat=None, eval_mat=None, topn=np.array([4, 10, 20, 50]), rand_sampled =1000, metric='PRECISION', cores=1, random_state=1993, dtype='float32')\n",
    "\n",
    "print(perf)\n",
    "del(ease)"
   ]
  },
  {
   "cell_type": "code",
   "execution_count": 24,
   "metadata": {},
   "outputs": [
    {
     "data": {
      "text/plain": [
       "(array([0, 0], dtype=int32), array([287, 336], dtype=int32))"
      ]
     },
     "execution_count": 24,
     "metadata": {},
     "output_type": "execute_result"
    }
   ],
   "source": [
    "eval_mat[13, :].nonzero()"
   ]
  },
  {
   "cell_type": "code",
   "execution_count": 49,
   "metadata": {},
   "outputs": [
    {
     "data": {
      "text/plain": [
       "array([1368,  994,  369,  452,  839,  735,  261, 1421,  804,  539])"
      ]
     },
     "execution_count": 49,
     "metadata": {},
     "output_type": "execute_result"
    }
   ],
   "source": [
    "rand_sample = np.random.choice(np.arange(1500), size=10, replace=False)\n",
    "rand_sample"
   ]
  },
  {
   "cell_type": "code",
   "execution_count": 11,
   "metadata": {},
   "outputs": [
    {
     "data": {
      "text/plain": [
       "array([ 0, 10, 29])"
      ]
     },
     "execution_count": 11,
     "metadata": {},
     "output_type": "execute_result"
    }
   ],
   "source": [
    "np.array(np.array([0, 10, 29]))"
   ]
  },
  {
   "cell_type": "code",
   "execution_count": 50,
   "metadata": {},
   "outputs": [
    {
     "data": {
      "text/plain": [
       "array([ 336,  287,  735,  539,  804, 1421,  261,  839,  452,  369,  994,\n",
       "       1368])"
      ]
     },
     "execution_count": 50,
     "metadata": {},
     "output_type": "execute_result"
    }
   ],
   "source": [
    "test_MF.rank(users=13, items=np.append(np.array([287, 336]), rand_sample))"
   ]
  },
  {
   "cell_type": "code",
   "execution_count": 6,
   "metadata": {},
   "outputs": [
    {
     "data": {
      "text/plain": [
       "matrix([[ 0.01985571, -0.0223171 ]], dtype=float32)"
      ]
     },
     "execution_count": 6,
     "metadata": {},
     "output_type": "execute_result"
    }
   ],
   "source": [
    "ease.predict(users=13, items=np.array([287, 336]))"
   ]
  },
  {
   "cell_type": "code",
   "execution_count": 51,
   "metadata": {},
   "outputs": [
    {
     "data": {
      "text/plain": [
       "array([[ 336, 1368,  994,  369,  452,  839,  261, 1421,  804,  539,  735,\n",
       "         287]])"
      ]
     },
     "execution_count": 51,
     "metadata": {},
     "output_type": "execute_result"
    }
   ],
   "source": [
    "ease.rank(users=13, items=np.append(np.array([287, 336]), rand_sample))"
   ]
  },
  {
   "cell_type": "code",
   "execution_count": 3,
   "metadata": {},
   "outputs": [],
   "source": [
    "test_array = np.array([\n",
    "    [1, 12, 11],\n",
    "    [3, 9, 4],\n",
    "    [15, 29, 2]\n",
    "])\n",
    "\n",
    "X = scipy.sparse.csr_matrix(test_array)\n",
    "alpha = 5"
   ]
  },
  {
   "cell_type": "code",
   "execution_count": 81,
   "metadata": {},
   "outputs": [
    {
     "data": {
      "text/plain": [
       "array([[ 0.        ,  1.77549564, -1.55608083],\n",
       "       [ 0.54350841,  0.        ,  0.89970337],\n",
       "       [-0.47830753,  0.90341597,  0.        ]])"
      ]
     },
     "execution_count": 81,
     "metadata": {},
     "output_type": "execute_result"
    }
   ],
   "source": [
    "G = np.dot(test_array.T, test_array)\n",
    "diag_indices = np.diag_indices_from(G)\n",
    "G[diag_indices] += 5\n",
    "B = np.linalg.inv(G)\n",
    "B /= (-np.diag(B))\n",
    "B[diag_indices] = 0\n",
    "\n",
    "B"
   ]
  },
  {
   "cell_type": "code",
   "execution_count": 4,
   "metadata": {},
   "outputs": [],
   "source": [
    "test = RecModel.Ease(num_items=train_mat.shape[1], num_users=train_mat.shape[0])\n",
    "test.train(X, alpha=5, verbose=1, cores=8)\n"
   ]
  },
  {
   "cell_type": "code",
   "execution_count": 5,
   "metadata": {},
   "outputs": [
    {
     "ename": "NameError",
     "evalue": "name '_predict_ease' is not defined",
     "output_type": "error",
     "traceback": [
      "\u001b[0;31m---------------------------------------------------------------------------\u001b[0m",
      "\u001b[0;31mNameError\u001b[0m                                 Traceback (most recent call last)",
      "\u001b[0;32m<ipython-input-5-65103eabcacb>\u001b[0m in \u001b[0;36m<module>\u001b[0;34m\u001b[0m\n\u001b[0;32m----> 1\u001b[0;31m \u001b[0mtest\u001b[0m\u001b[0;34m.\u001b[0m\u001b[0mpredict_fast\u001b[0m\u001b[0;34m(\u001b[0m\u001b[0mnp\u001b[0m\u001b[0;34m.\u001b[0m\u001b[0marray\u001b[0m\u001b[0;34m(\u001b[0m\u001b[0;34m[\u001b[0m\u001b[0;36m0\u001b[0m\u001b[0;34m]\u001b[0m\u001b[0;34m)\u001b[0m\u001b[0;34m,\u001b[0m \u001b[0mnp\u001b[0m\u001b[0;34m.\u001b[0m\u001b[0marray\u001b[0m\u001b[0;34m(\u001b[0m\u001b[0;34m[\u001b[0m\u001b[0;36m0\u001b[0m\u001b[0;34m,\u001b[0m \u001b[0;36m1\u001b[0m\u001b[0;34m,\u001b[0m \u001b[0;36m2\u001b[0m\u001b[0;34m]\u001b[0m\u001b[0;34m)\u001b[0m\u001b[0;34m)\u001b[0m\u001b[0;34m\u001b[0m\u001b[0;34m\u001b[0m\u001b[0m\n\u001b[0m",
      "\u001b[0;32m~/Documents/fast_Reco/RecModel/py_models/models.py\u001b[0m in \u001b[0;36mpredict_fast\u001b[0;34m(self, users, items)\u001b[0m\n\u001b[1;32m    619\u001b[0m \u001b[0;34m\u001b[0m\u001b[0m\n\u001b[1;32m    620\u001b[0m     \u001b[0;32mdef\u001b[0m \u001b[0mpredict_fast\u001b[0m\u001b[0;34m(\u001b[0m\u001b[0mself\u001b[0m\u001b[0;34m,\u001b[0m \u001b[0musers\u001b[0m\u001b[0;34m,\u001b[0m \u001b[0mitems\u001b[0m\u001b[0;34m)\u001b[0m\u001b[0;34m:\u001b[0m\u001b[0;34m\u001b[0m\u001b[0;34m\u001b[0m\u001b[0m\n\u001b[0;32m--> 621\u001b[0;31m         \u001b[0;32mreturn\u001b[0m \u001b[0m_predict_ease\u001b[0m\u001b[0;34m(\u001b[0m\u001b[0mself\u001b[0m\u001b[0;34m.\u001b[0m\u001b[0mX\u001b[0m\u001b[0;34m.\u001b[0m\u001b[0mindptr\u001b[0m\u001b[0;34m.\u001b[0m\u001b[0mastype\u001b[0m\u001b[0;34m(\u001b[0m\u001b[0mnp\u001b[0m\u001b[0;34m.\u001b[0m\u001b[0mint32\u001b[0m\u001b[0;34m)\u001b[0m\u001b[0;34m,\u001b[0m \u001b[0mself\u001b[0m\u001b[0;34m.\u001b[0m\u001b[0mX_idx\u001b[0m\u001b[0;34m.\u001b[0m\u001b[0mastype\u001b[0m\u001b[0;34m(\u001b[0m\u001b[0mnp\u001b[0m\u001b[0;34m.\u001b[0m\u001b[0mint32\u001b[0m\u001b[0;34m)\u001b[0m\u001b[0;34m,\u001b[0m \u001b[0mself\u001b[0m\u001b[0;34m.\u001b[0m\u001b[0mX\u001b[0m\u001b[0;34m.\u001b[0m\u001b[0mdata\u001b[0m\u001b[0;34m.\u001b[0m\u001b[0mastype\u001b[0m\u001b[0;34m(\u001b[0m\u001b[0mnp\u001b[0m\u001b[0;34m.\u001b[0m\u001b[0mfloat32\u001b[0m\u001b[0;34m)\u001b[0m\u001b[0;34m,\u001b[0m \u001b[0mself\u001b[0m\u001b[0;34m.\u001b[0m\u001b[0mW\u001b[0m\u001b[0;34m,\u001b[0m \u001b[0musers\u001b[0m\u001b[0;34m,\u001b[0m \u001b[0mitems\u001b[0m\u001b[0;34m)\u001b[0m\u001b[0;34m\u001b[0m\u001b[0;34m\u001b[0m\u001b[0m\n\u001b[0m",
      "\u001b[0;31mNameError\u001b[0m: name '_predict_ease' is not defined"
     ]
    }
   ],
   "source": [
    "test.predict_fast(np.array([0]), np.array([0, 1, 2]))"
   ]
  },
  {
   "cell_type": "code",
   "execution_count": 46,
   "metadata": {},
   "outputs": [
    {
     "data": {
      "text/plain": [
       "matrix([[ 0.        ,  1.77549564, -1.55608083],\n",
       "        [ 0.54350841,  0.        ,  0.89970337],\n",
       "        [-0.47830753,  0.90341597,  0.        ]])"
      ]
     },
     "execution_count": 46,
     "metadata": {},
     "output_type": "execute_result"
    }
   ],
   "source": [
    "test.W"
   ]
  },
  {
   "cell_type": "code",
   "execution_count": null,
   "metadata": {},
   "outputs": [],
   "source": [
    "\n",
    "cpdef np.ndarray[np.double_t, ndim=1] _predict_ease(int[:] X_indptr, int[:] X_idx, float[:] X_data, float[:, :] W, int[:] users, int[:] items):\n",
    "    cdef:\n",
    "        int i, j, length, user, item\n",
    "    if len(users) == 0 or len(items) == 0:\n",
    "        return np.full(1, 0.0)\n",
    "    else:\n",
    "        length = max(len(items), len(users))\n",
    "        #Pre-allocate output array.\n",
    "        output = np.empty(length)\n",
    "        for i in range(length):\n",
    "            user = users[i % len(users)]\n",
    "            item = item[i % len(items)]\n",
    "            for j in range(X_indptr[user], X_indptr[user + 1]):\n",
    "                ouput[i] += X_data[j] *  W[X_idx[j], item]\n",
    "        return output"
   ]
  },
  {
   "cell_type": "code",
   "execution_count": null,
   "metadata": {},
   "outputs": [],
   "source": []
  },
  {
   "cell_type": "code",
   "execution_count": 93,
   "metadata": {},
   "outputs": [
    {
     "data": {
      "text/plain": [
       "0"
      ]
     },
     "execution_count": 93,
     "metadata": {},
     "output_type": "execute_result"
    }
   ],
   "source": [
    "9 % 9"
   ]
  }
 ],
 "metadata": {
  "kernelspec": {
   "display_name": "Python 3",
   "language": "python",
   "name": "python3"
  },
  "language_info": {
   "codemirror_mode": {
    "name": "ipython",
    "version": 3
   },
   "file_extension": ".py",
   "mimetype": "text/x-python",
   "name": "python",
   "nbconvert_exporter": "python",
   "pygments_lexer": "ipython3",
   "version": "3.7.3"
  }
 },
 "nbformat": 4,
 "nbformat_minor": 4
}
